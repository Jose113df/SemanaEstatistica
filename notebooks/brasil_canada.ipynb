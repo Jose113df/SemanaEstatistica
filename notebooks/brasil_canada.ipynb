{
 "cells": [
  {
   "cell_type": "markdown",
   "metadata": {},
   "source": []
  },
  {
   "cell_type": "code",
   "execution_count": 1,
   "metadata": {},
   "outputs": [
    {
     "name": "stdout",
     "output_type": "stream",
     "text": [
      "['False', 'None', 'True', 'and', 'as', 'assert', 'async', 'await', 'break', 'class', 'continue', 'def', 'del', 'elif', 'else', 'except', 'finally', 'for', 'from', 'global', 'if', 'import', 'in', 'is', 'lambda', 'nonlocal', 'not', 'or', 'pass', 'raise', 'return', 'try', 'while', 'with', 'yield']\n"
     ]
    }
   ],
   "source": [
    "import keyword\n",
    "print(keyword.kwlist)\n",
    "\n"
   ]
  },
  {
   "cell_type": "code",
   "execution_count": 3,
   "metadata": {},
   "outputs": [
    {
     "name": "stdout",
     "output_type": "stream",
     "text": [
      "<class 'int'>\n",
      "<class 'complex'>\n"
     ]
    }
   ],
   "source": [
    "\n",
    "x = 10\n",
    "print(type(x))\n",
    "y=3j\n",
    "print(type(y))"
   ]
  },
  {
   "cell_type": "code",
   "execution_count": null,
   "metadata": {},
   "outputs": [],
   "source": [
    "#barr de chocolate\n",
    "# 5 partes \n",
    "# 1 parte\n",
    "# 1/5 = numerador 1, denominador 5\n",
    "# 2,05 \n",
    "# 2,05"
   ]
  },
  {
   "cell_type": "markdown",
   "metadata": {},
   "source": [
    "# Exercicio - previsto\n",
    "\n",
    "qual o seu peso \n",
    "qual o seu imc\n"
   ]
  },
  {
   "cell_type": "code",
   "execution_count": 19,
   "metadata": {},
   "outputs": [],
   "source": [
    "#Programação a orientada a objeto\n",
    "\n",
    "def calcular_imc (peso,altura):\n",
    "    return peso/ pow(altura,2)"
   ]
  },
  {
   "cell_type": "code",
   "execution_count": 24,
   "metadata": {},
   "outputs": [
    {
     "name": "stdout",
     "output_type": "stream",
     "text": [
      "Seu Imc =  45.10675264793344\n",
      "Sua Classificação: com obesidade\n"
     ]
    }
   ],
   "source": [
    "calcular_imc= lambda peso, altura: peso / pow(altura,2)\n",
    "\n",
    "peso= (input(\"Digite o seu peso\")).replace(\",\",\".\")\n",
    "altura= (input(\"Digite a sua altura\")).replace(\",\",\".\")\n",
    "peso = float(peso)\n",
    "altura = float(altura)\n",
    "#imc = (peso/(altura*altura))\n",
    "imc= calcular_imc(peso, altura)\n",
    "print(\"Seu Imc = \",imc)\n",
    "classificacao = (\"abaixo do peso\" if imc < 18.5 else\n",
    "                 \"com peso normal\" if imc < 24.9 else\n",
    "                 \"com sobrepeso\" if imc < 29.9 else\n",
    "                 \"com obesidade\")\n",
    "print(\"Sua Classificação:\",classificacao)"
   ]
  }
 ],
 "metadata": {
  "kernelspec": {
   "display_name": ".venv",
   "language": "python",
   "name": "python3"
  },
  "language_info": {
   "codemirror_mode": {
    "name": "ipython",
    "version": 3
   },
   "file_extension": ".py",
   "mimetype": "text/x-python",
   "name": "python",
   "nbconvert_exporter": "python",
   "pygments_lexer": "ipython3",
   "version": "3.12.5"
  }
 },
 "nbformat": 4,
 "nbformat_minor": 2
}
